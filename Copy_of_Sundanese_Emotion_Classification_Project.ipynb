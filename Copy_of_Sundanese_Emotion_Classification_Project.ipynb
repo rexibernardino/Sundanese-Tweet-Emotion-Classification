{
  "nbformat": 4,
  "nbformat_minor": 0,
  "metadata": {
    "colab": {
      "provenance": []
    },
    "kernelspec": {
      "name": "python3",
      "display_name": "Python 3"
    },
    "language_info": {
      "name": "python"
    }
  },
  "cells": [
    {
      "cell_type": "markdown",
      "source": [
        "# Sundanese Tweet Emotion Classification (NLP)\n",
        "---\n",
        "\n",
        "\n"
      ],
      "metadata": {
        "id": "NqPST9Uri6Es"
      }
    },
    {
      "cell_type": "markdown",
      "source": [
        "In this project, we decided to try an NLP Task (Emotion Classification).\n",
        "\n",
        "This dataset contains tweet from Indonesia's second largest local language which is ***Sundanese***, and already labeled for the emotion.\n",
        "\n",
        "There are 4 emotions in this dataset, which are :\n",
        "1. **anger**\n",
        "2. **joy**\n",
        "3. **fear**\n",
        "4. **sadness**\n",
        "\n",
        "We will use Random Forest, Adaboost, and Xgboost as a baseline model in this project as comparison."
      ],
      "metadata": {
        "id": "luSwPZcyjI84"
      }
    },
    {
      "cell_type": "markdown",
      "source": [
        "# Importing Dependencies and Dataset"
      ],
      "metadata": {
        "id": "2joPmL_3pV0B"
      }
    },
    {
      "cell_type": "code",
      "source": [
        "import numpy as np\n",
        "import pandas as pd\n",
        "import seaborn as sns\n",
        "import matplotlib.pyplot as plt\n",
        "from google.colab import drive\n",
        "drive.mount('/content/drive')"
      ],
      "metadata": {
        "colab": {
          "base_uri": "https://localhost:8080/"
        },
        "id": "bzi0PcN4i8y6",
        "outputId": "ac1938e0-13c4-486a-fb62-1a883536061f"
      },
      "execution_count": null,
      "outputs": [
        {
          "output_type": "stream",
          "name": "stdout",
          "text": [
            "Mounted at /content/drive\n"
          ]
        }
      ]
    },
    {
      "cell_type": "code",
      "source": [
        "df = pd.read_csv('/content/drive/MyDrive/Dataset/sundanese_twitter_dataset/data.csv')\n",
        "df.head()"
      ],
      "metadata": {
        "colab": {
          "base_uri": "https://localhost:8080/",
          "height": 206
        },
        "id": "sWUSr4LXqhqp",
        "outputId": "0b741016-d88c-4573-e5b1-24734d8649db"
      },
      "execution_count": null,
      "outputs": [
        {
          "output_type": "execute_result",
          "data": {
            "text/plain": [
              "   label                                               data\n",
              "0  anger  sok geura leungit atuh sia teh corona, matak g...\n",
              "1  anger  Nu katoel katuhu nu nyerina kenca, goblog wasitna\n",
              "2    joy  Bingah pisan patepang sareng pangerasa. Sing k...\n",
              "3   fear  asa hariwang kieu.. lalakon hirup teh asa nyor...\n",
              "4  anger  Orang mana sih anying, sampis pisan. Bunuh ae ..."
            ],
            "text/html": [
              "\n",
              "  <div id=\"df-79895971-f6fd-47eb-ad00-1286b5034eb1\" class=\"colab-df-container\">\n",
              "    <div>\n",
              "<style scoped>\n",
              "    .dataframe tbody tr th:only-of-type {\n",
              "        vertical-align: middle;\n",
              "    }\n",
              "\n",
              "    .dataframe tbody tr th {\n",
              "        vertical-align: top;\n",
              "    }\n",
              "\n",
              "    .dataframe thead th {\n",
              "        text-align: right;\n",
              "    }\n",
              "</style>\n",
              "<table border=\"1\" class=\"dataframe\">\n",
              "  <thead>\n",
              "    <tr style=\"text-align: right;\">\n",
              "      <th></th>\n",
              "      <th>label</th>\n",
              "      <th>data</th>\n",
              "    </tr>\n",
              "  </thead>\n",
              "  <tbody>\n",
              "    <tr>\n",
              "      <th>0</th>\n",
              "      <td>anger</td>\n",
              "      <td>sok geura leungit atuh sia teh corona, matak g...</td>\n",
              "    </tr>\n",
              "    <tr>\n",
              "      <th>1</th>\n",
              "      <td>anger</td>\n",
              "      <td>Nu katoel katuhu nu nyerina kenca, goblog wasitna</td>\n",
              "    </tr>\n",
              "    <tr>\n",
              "      <th>2</th>\n",
              "      <td>joy</td>\n",
              "      <td>Bingah pisan patepang sareng pangerasa. Sing k...</td>\n",
              "    </tr>\n",
              "    <tr>\n",
              "      <th>3</th>\n",
              "      <td>fear</td>\n",
              "      <td>asa hariwang kieu.. lalakon hirup teh asa nyor...</td>\n",
              "    </tr>\n",
              "    <tr>\n",
              "      <th>4</th>\n",
              "      <td>anger</td>\n",
              "      <td>Orang mana sih anying, sampis pisan. Bunuh ae ...</td>\n",
              "    </tr>\n",
              "  </tbody>\n",
              "</table>\n",
              "</div>\n",
              "    <div class=\"colab-df-buttons\">\n",
              "\n",
              "  <div class=\"colab-df-container\">\n",
              "    <button class=\"colab-df-convert\" onclick=\"convertToInteractive('df-79895971-f6fd-47eb-ad00-1286b5034eb1')\"\n",
              "            title=\"Convert this dataframe to an interactive table.\"\n",
              "            style=\"display:none;\">\n",
              "\n",
              "  <svg xmlns=\"http://www.w3.org/2000/svg\" height=\"24px\" viewBox=\"0 -960 960 960\">\n",
              "    <path d=\"M120-120v-720h720v720H120Zm60-500h600v-160H180v160Zm220 220h160v-160H400v160Zm0 220h160v-160H400v160ZM180-400h160v-160H180v160Zm440 0h160v-160H620v160ZM180-180h160v-160H180v160Zm440 0h160v-160H620v160Z\"/>\n",
              "  </svg>\n",
              "    </button>\n",
              "\n",
              "  <style>\n",
              "    .colab-df-container {\n",
              "      display:flex;\n",
              "      gap: 12px;\n",
              "    }\n",
              "\n",
              "    .colab-df-convert {\n",
              "      background-color: #E8F0FE;\n",
              "      border: none;\n",
              "      border-radius: 50%;\n",
              "      cursor: pointer;\n",
              "      display: none;\n",
              "      fill: #1967D2;\n",
              "      height: 32px;\n",
              "      padding: 0 0 0 0;\n",
              "      width: 32px;\n",
              "    }\n",
              "\n",
              "    .colab-df-convert:hover {\n",
              "      background-color: #E2EBFA;\n",
              "      box-shadow: 0px 1px 2px rgba(60, 64, 67, 0.3), 0px 1px 3px 1px rgba(60, 64, 67, 0.15);\n",
              "      fill: #174EA6;\n",
              "    }\n",
              "\n",
              "    .colab-df-buttons div {\n",
              "      margin-bottom: 4px;\n",
              "    }\n",
              "\n",
              "    [theme=dark] .colab-df-convert {\n",
              "      background-color: #3B4455;\n",
              "      fill: #D2E3FC;\n",
              "    }\n",
              "\n",
              "    [theme=dark] .colab-df-convert:hover {\n",
              "      background-color: #434B5C;\n",
              "      box-shadow: 0px 1px 3px 1px rgba(0, 0, 0, 0.15);\n",
              "      filter: drop-shadow(0px 1px 2px rgba(0, 0, 0, 0.3));\n",
              "      fill: #FFFFFF;\n",
              "    }\n",
              "  </style>\n",
              "\n",
              "    <script>\n",
              "      const buttonEl =\n",
              "        document.querySelector('#df-79895971-f6fd-47eb-ad00-1286b5034eb1 button.colab-df-convert');\n",
              "      buttonEl.style.display =\n",
              "        google.colab.kernel.accessAllowed ? 'block' : 'none';\n",
              "\n",
              "      async function convertToInteractive(key) {\n",
              "        const element = document.querySelector('#df-79895971-f6fd-47eb-ad00-1286b5034eb1');\n",
              "        const dataTable =\n",
              "          await google.colab.kernel.invokeFunction('convertToInteractive',\n",
              "                                                    [key], {});\n",
              "        if (!dataTable) return;\n",
              "\n",
              "        const docLinkHtml = 'Like what you see? Visit the ' +\n",
              "          '<a target=\"_blank\" href=https://colab.research.google.com/notebooks/data_table.ipynb>data table notebook</a>'\n",
              "          + ' to learn more about interactive tables.';\n",
              "        element.innerHTML = '';\n",
              "        dataTable['output_type'] = 'display_data';\n",
              "        await google.colab.output.renderOutput(dataTable, element);\n",
              "        const docLink = document.createElement('div');\n",
              "        docLink.innerHTML = docLinkHtml;\n",
              "        element.appendChild(docLink);\n",
              "      }\n",
              "    </script>\n",
              "  </div>\n",
              "\n",
              "\n",
              "<div id=\"df-57907a21-ae56-4edf-8504-17475b3d83a7\">\n",
              "  <button class=\"colab-df-quickchart\" onclick=\"quickchart('df-57907a21-ae56-4edf-8504-17475b3d83a7')\"\n",
              "            title=\"Suggest charts\"\n",
              "            style=\"display:none;\">\n",
              "\n",
              "<svg xmlns=\"http://www.w3.org/2000/svg\" height=\"24px\"viewBox=\"0 0 24 24\"\n",
              "     width=\"24px\">\n",
              "    <g>\n",
              "        <path d=\"M19 3H5c-1.1 0-2 .9-2 2v14c0 1.1.9 2 2 2h14c1.1 0 2-.9 2-2V5c0-1.1-.9-2-2-2zM9 17H7v-7h2v7zm4 0h-2V7h2v10zm4 0h-2v-4h2v4z\"/>\n",
              "    </g>\n",
              "</svg>\n",
              "  </button>\n",
              "\n",
              "<style>\n",
              "  .colab-df-quickchart {\n",
              "      --bg-color: #E8F0FE;\n",
              "      --fill-color: #1967D2;\n",
              "      --hover-bg-color: #E2EBFA;\n",
              "      --hover-fill-color: #174EA6;\n",
              "      --disabled-fill-color: #AAA;\n",
              "      --disabled-bg-color: #DDD;\n",
              "  }\n",
              "\n",
              "  [theme=dark] .colab-df-quickchart {\n",
              "      --bg-color: #3B4455;\n",
              "      --fill-color: #D2E3FC;\n",
              "      --hover-bg-color: #434B5C;\n",
              "      --hover-fill-color: #FFFFFF;\n",
              "      --disabled-bg-color: #3B4455;\n",
              "      --disabled-fill-color: #666;\n",
              "  }\n",
              "\n",
              "  .colab-df-quickchart {\n",
              "    background-color: var(--bg-color);\n",
              "    border: none;\n",
              "    border-radius: 50%;\n",
              "    cursor: pointer;\n",
              "    display: none;\n",
              "    fill: var(--fill-color);\n",
              "    height: 32px;\n",
              "    padding: 0;\n",
              "    width: 32px;\n",
              "  }\n",
              "\n",
              "  .colab-df-quickchart:hover {\n",
              "    background-color: var(--hover-bg-color);\n",
              "    box-shadow: 0 1px 2px rgba(60, 64, 67, 0.3), 0 1px 3px 1px rgba(60, 64, 67, 0.15);\n",
              "    fill: var(--button-hover-fill-color);\n",
              "  }\n",
              "\n",
              "  .colab-df-quickchart-complete:disabled,\n",
              "  .colab-df-quickchart-complete:disabled:hover {\n",
              "    background-color: var(--disabled-bg-color);\n",
              "    fill: var(--disabled-fill-color);\n",
              "    box-shadow: none;\n",
              "  }\n",
              "\n",
              "  .colab-df-spinner {\n",
              "    border: 2px solid var(--fill-color);\n",
              "    border-color: transparent;\n",
              "    border-bottom-color: var(--fill-color);\n",
              "    animation:\n",
              "      spin 1s steps(1) infinite;\n",
              "  }\n",
              "\n",
              "  @keyframes spin {\n",
              "    0% {\n",
              "      border-color: transparent;\n",
              "      border-bottom-color: var(--fill-color);\n",
              "      border-left-color: var(--fill-color);\n",
              "    }\n",
              "    20% {\n",
              "      border-color: transparent;\n",
              "      border-left-color: var(--fill-color);\n",
              "      border-top-color: var(--fill-color);\n",
              "    }\n",
              "    30% {\n",
              "      border-color: transparent;\n",
              "      border-left-color: var(--fill-color);\n",
              "      border-top-color: var(--fill-color);\n",
              "      border-right-color: var(--fill-color);\n",
              "    }\n",
              "    40% {\n",
              "      border-color: transparent;\n",
              "      border-right-color: var(--fill-color);\n",
              "      border-top-color: var(--fill-color);\n",
              "    }\n",
              "    60% {\n",
              "      border-color: transparent;\n",
              "      border-right-color: var(--fill-color);\n",
              "    }\n",
              "    80% {\n",
              "      border-color: transparent;\n",
              "      border-right-color: var(--fill-color);\n",
              "      border-bottom-color: var(--fill-color);\n",
              "    }\n",
              "    90% {\n",
              "      border-color: transparent;\n",
              "      border-bottom-color: var(--fill-color);\n",
              "    }\n",
              "  }\n",
              "</style>\n",
              "\n",
              "  <script>\n",
              "    async function quickchart(key) {\n",
              "      const quickchartButtonEl =\n",
              "        document.querySelector('#' + key + ' button');\n",
              "      quickchartButtonEl.disabled = true;  // To prevent multiple clicks.\n",
              "      quickchartButtonEl.classList.add('colab-df-spinner');\n",
              "      try {\n",
              "        const charts = await google.colab.kernel.invokeFunction(\n",
              "            'suggestCharts', [key], {});\n",
              "      } catch (error) {\n",
              "        console.error('Error during call to suggestCharts:', error);\n",
              "      }\n",
              "      quickchartButtonEl.classList.remove('colab-df-spinner');\n",
              "      quickchartButtonEl.classList.add('colab-df-quickchart-complete');\n",
              "    }\n",
              "    (() => {\n",
              "      let quickchartButtonEl =\n",
              "        document.querySelector('#df-57907a21-ae56-4edf-8504-17475b3d83a7 button');\n",
              "      quickchartButtonEl.style.display =\n",
              "        google.colab.kernel.accessAllowed ? 'block' : 'none';\n",
              "    })();\n",
              "  </script>\n",
              "</div>\n",
              "    </div>\n",
              "  </div>\n"
            ]
          },
          "metadata": {},
          "execution_count": 2
        }
      ]
    },
    {
      "cell_type": "markdown",
      "source": [
        "As we can see here, the dataset only contains 2 features, which are :\n",
        "1. label := for the emotion classification\n",
        "2. data := the tweet in Sundanese"
      ],
      "metadata": {
        "id": "pKR0aOqSr907"
      }
    },
    {
      "cell_type": "markdown",
      "source": [
        "# Visualizing the Dataset"
      ],
      "metadata": {
        "id": "Sc_C3p84sZGA"
      }
    },
    {
      "cell_type": "code",
      "source": [
        "emotion_colors = {\n",
        "    'joy': 'skyblue',\n",
        "    'sadness': 'grey',\n",
        "    'anger': 'darkred',\n",
        "    'fear' : 'darkorange'\n",
        "}\n",
        "\n",
        "# counts each classes\n",
        "label_counts = df['label'].value_counts()\n",
        "\n",
        "plt.figure(figsize=(10, 6))\n",
        "sns.barplot(x=label_counts.index, y=label_counts.values, palette=[emotion_colors[label] for label in label_counts.index])\n",
        "plt.title('Distribution of Emotion Classes')\n",
        "plt.xlabel('Emotion Classes')\n",
        "plt.ylabel('Number of Samples')\n",
        "plt.show()"
      ],
      "metadata": {
        "colab": {
          "base_uri": "https://localhost:8080/",
          "height": 564
        },
        "id": "OpBn0Cn9rYCN",
        "outputId": "9318af4f-c56d-46b4-fa92-f680664770be"
      },
      "execution_count": null,
      "outputs": [
        {
          "output_type": "display_data",
          "data": {
            "text/plain": [
              "<Figure size 1000x600 with 1 Axes>"
            ],
            "image/png": "[encoded data removed]"
          },
          "metadata": {}
        }
      ]
    },
    {
      "cell_type": "code",
      "source": [
        "print(label_counts)"
      ],
      "metadata": {
        "colab": {
          "base_uri": "https://localhost:8080/"
        },
        "id": "aDlM3-Rjs_jU",
        "outputId": "5ee49104-fa02-498a-b7b4-687843c7bc9b"
      },
      "execution_count": null,
      "outputs": [
        {
          "output_type": "stream",
          "name": "stdout",
          "text": [
            "joy        539\n",
            "sadness    530\n",
            "anger      518\n",
            "fear       511\n",
            "Name: label, dtype: int64\n"
          ]
        }
      ]
    },
    {
      "cell_type": "markdown",
      "source": [
        "The dataset contains **2098** rows of data, and it looks equally distributed"
      ],
      "metadata": {
        "id": "daijduoTtI2h"
      }
    },
    {
      "cell_type": "markdown",
      "source": [
        "# Data Preprocessing"
      ],
      "metadata": {
        "id": "aqdyg-G5wabh"
      }
    },
    {
      "cell_type": "markdown",
      "source": [
        "## Lowercasing"
      ],
      "metadata": {
        "id": "Ns89euMcxB-m"
      }
    },
    {
      "cell_type": "code",
      "source": [
        "df['data'] = df['data'].str.lower()\n",
        "df['data']"
      ],
      "metadata": {
        "colab": {
          "base_uri": "https://localhost:8080/"
        },
        "id": "ao6wmSKasdXc",
        "outputId": "8cdb4b0d-6e2a-478c-d034-39f2008f400b"
      },
      "execution_count": null,
      "outputs": [
        {
          "output_type": "execute_result",
          "data": {
            "text/plain": [
              "0       sok geura leungit atuh sia teh corona, matak g...\n",
              "1       nu katoel katuhu nu nyerina kenca, goblog wasitna\n",
              "2       bingah pisan patepang sareng pangerasa. sing k...\n",
              "3       asa hariwang kieu.. lalakon hirup teh asa nyor...\n",
              "4       orang mana sih anying, sampis pisan. bunuh ae ...\n",
              "                              ...                        \n",
              "2093       meuni ngeunah ngabarakatak eeeuy uiiiiing....!\n",
              "2094    meuni ku endah, tebeda nami na gusti nu agung,...\n",
              "2095    meuni bungah kieu euy meunang di ngalam, nuhun...\n",
              "2096    meuni bingah ningalna ya alloh mudah\" pas 02 k...\n",
              "2097            meuni atoh ningali adi lanceuk guyub kitu\n",
              "Name: data, Length: 2098, dtype: object"
            ]
          },
          "metadata": {},
          "execution_count": 5
        }
      ]
    },
    {
      "cell_type": "markdown",
      "source": [
        "**Convert all text to lowercase**. This ensures consistency in the representation of words and helps the model generalize better by treating words in different cases as the same."
      ],
      "metadata": {
        "id": "bPOy-UdSxdUV"
      }
    },
    {
      "cell_type": "markdown",
      "source": [
        "## Removing Punctuation and Special Characters"
      ],
      "metadata": {
        "id": "OrmK8swWxlNt"
      }
    },
    {
      "cell_type": "code",
      "source": [
        "import re\n",
        "df['data'] = df['data'].apply(lambda x: re.sub(r'[^a-zA-Z\\s]', '', x))\n",
        "df['data']"
      ],
      "metadata": {
        "colab": {
          "base_uri": "https://localhost:8080/"
        },
        "id": "VB4xA2WMxK0U",
        "outputId": "4b2adc32-72d6-4608-fff1-3746a61945da"
      },
      "execution_count": null,
      "outputs": [
        {
          "output_type": "execute_result",
          "data": {
            "text/plain": [
              "0       sok geura leungit atuh sia teh corona matak ge...\n",
              "1        nu katoel katuhu nu nyerina kenca goblog wasitna\n",
              "2       bingah pisan patepang sareng pangerasa sing ka...\n",
              "3       asa hariwang kieu lalakon hirup teh asa nyoran...\n",
              "4       orang mana sih anying sampis pisan bunuh ae la...\n",
              "                              ...                        \n",
              "2093            meuni ngeunah ngabarakatak eeeuy uiiiiing\n",
              "2094    meuni ku endah tebeda nami na gusti nu agung d...\n",
              "2095    meuni bungah kieu euy meunang di ngalam nuhun ...\n",
              "2096    meuni bingah ningalna ya alloh mudah pas  keng...\n",
              "2097            meuni atoh ningali adi lanceuk guyub kitu\n",
              "Name: data, Length: 2098, dtype: object"
            ]
          },
          "metadata": {},
          "execution_count": 6
        }
      ]
    },
    {
      "cell_type": "markdown",
      "source": [
        "**Remove unnecessary punctuation and special characters** that might not contribute much to the meaning of the text."
      ],
      "metadata": {
        "id": "Q42-7lFTzFRj"
      }
    },
    {
      "cell_type": "markdown",
      "source": [
        "## Tokenizing the words"
      ],
      "metadata": {
        "id": "mqnZ-X_aEcBU"
      }
    },
    {
      "cell_type": "code",
      "source": [
        "from nltk.tokenize import word_tokenize\n",
        "import nltk\n",
        "nltk.download('punkt')\n",
        "\n",
        "# Tokenize the 'data' column\n",
        "df['data'] = df['data'].apply(word_tokenize)\n",
        "df['data']"
      ],
      "metadata": {
        "colab": {
          "base_uri": "https://localhost:8080/"
        },
        "id": "fddksAKnEemN",
        "outputId": "6bd631ee-4e18-49d4-fd41-a1b16910ded6"
      },
      "execution_count": null,
      "outputs": [
        {
          "output_type": "stream",
          "name": "stderr",
          "text": [
            "[nltk_data] Downloading package punkt to /root/nltk_data...\n",
            "[nltk_data]   Unzipping tokenizers/punkt.zip.\n"
          ]
        },
        {
          "output_type": "execute_result",
          "data": {
            "text/plain": [
              "0       [sok, geura, leungit, atuh, sia, teh, corona, ...\n",
              "1       [nu, katoel, katuhu, nu, nyerina, kenca, goblo...\n",
              "2       [bingah, pisan, patepang, sareng, pangerasa, s...\n",
              "3       [asa, hariwang, kieu, lalakon, hirup, teh, asa...\n",
              "4       [orang, mana, sih, anying, sampis, pisan, bunu...\n",
              "                              ...                        \n",
              "2093      [meuni, ngeunah, ngabarakatak, eeeuy, uiiiiing]\n",
              "2094    [meuni, ku, endah, tebeda, nami, na, gusti, nu...\n",
              "2095    [meuni, bungah, kieu, euy, meunang, di, ngalam...\n",
              "2096    [meuni, bingah, ningalna, ya, alloh, mudah, pa...\n",
              "2097    [meuni, atoh, ningali, adi, lanceuk, guyub, kitu]\n",
              "Name: data, Length: 2098, dtype: object"
            ]
          },
          "metadata": {},
          "execution_count": 7
        }
      ]
    },
    {
      "cell_type": "markdown",
      "source": [
        "**Break the text into individual words or tokens**, to help convert raw text into a format that is suitable for analysis and model training."
      ],
      "metadata": {
        "id": "H8Mp9MW-E0CR"
      }
    },
    {
      "cell_type": "markdown",
      "source": [
        "## Removing stopwords"
      ],
      "metadata": {
        "id": "M0Dl6RzMDft3"
      }
    },
    {
      "cell_type": "markdown",
      "source": [
        "in this dataset that we've downloaded, it came with its own stopwords in seperated .txt file, which is written in **Sundanese**"
      ],
      "metadata": {
        "id": "zcVmpg7_Din1"
      }
    },
    {
      "cell_type": "code",
      "source": [
        "sundanese_stopwords = '/content/drive/MyDrive/Dataset/sundanese_twitter_dataset/stopwordv1.txt'\n",
        "\n",
        "with open(sundanese_stopwords, 'r') as file:\n",
        "    stopwords = set(file.read().splitlines())\n",
        "\n",
        "# Function to remove custom stopwords\n",
        "def remove_stopwords(tokens):\n",
        "    return [word for word in tokens if word.lower() not in stopwords]\n",
        "\n",
        "# Apply the function to the 'data' column\n",
        "df['data'] = df['data'].apply(remove_stopwords)\n",
        "df['data']\n"
      ],
      "metadata": {
        "colab": {
          "base_uri": "https://localhost:8080/"
        },
        "id": "xhGfNKVTyuoR",
        "outputId": "c92d7c29-1df9-49e9-8d22-06fdfd2288e9"
      },
      "execution_count": null,
      "outputs": [
        {
          "output_type": "execute_result",
          "data": {
            "text/plain": [
              "0       [geura, leungit, sia, corona, gelo, yeuh, aing...\n",
              "1       [katoel, katuhu, nyerina, kenca, goblog, wasitna]\n",
              "2       [bingah, patepang, pangerasa, sing, katampi, k...\n",
              "3                   [hariwang, lalakon, hirup, nyorangan]\n",
              "4          [orang, sih, anying, sampis, bunuh, ae, bunuh]\n",
              "                              ...                        \n",
              "2093      [meuni, ngeunah, ngabarakatak, eeeuy, uiiiiing]\n",
              "2094    [meuni, endah, tebeda, nami, gusti, agung, dim...\n",
              "2095    [meuni, bungah, meunang, ngalam, nuhun, bahh, ...\n",
              "2096    [meuni, bingah, ningalna, alloh, mudah, pas, k...\n",
              "2097          [meuni, atoh, ningali, adi, lanceuk, guyub]\n",
              "Name: data, Length: 2098, dtype: object"
            ]
          },
          "metadata": {},
          "execution_count": 8
        }
      ]
    },
    {
      "cell_type": "markdown",
      "source": [
        "# Data Modelling"
      ],
      "metadata": {
        "id": "njBxeK-aOGuo"
      }
    },
    {
      "cell_type": "markdown",
      "source": [
        "## Splitting the Data"
      ],
      "metadata": {
        "id": "jnH2Zk1WQBf9"
      }
    },
    {
      "cell_type": "code",
      "source": [
        "from sklearn.feature_extraction.text import CountVectorizer\n",
        "from sklearn.ensemble import RandomForestClassifier\n",
        "from sklearn.pipeline import make_pipeline\n",
        "from sklearn.model_selection import cross_val_predict, StratifiedKFold\n",
        "from sklearn.metrics import make_scorer, accuracy_score, classification_report\n",
        "\n",
        "\n",
        "# Extract features and labels\n",
        "X = df['data']\n",
        "y = df['label']\n",
        "\n"
      ],
      "metadata": {
        "id": "ga_lYqHBOcRu"
      },
      "execution_count": null,
      "outputs": []
    },
    {
      "cell_type": "markdown",
      "source": [
        "## Inserting the splitted data into a model"
      ],
      "metadata": {
        "id": "g9VA19q5RGSM"
      }
    },
    {
      "cell_type": "markdown",
      "source": [
        "### Random Forest"
      ],
      "metadata": {
        "id": "YLhbQFNhRLlJ"
      }
    },
    {
      "cell_type": "code",
      "source": [
        "# Create a pipeline with CountVectorizer and RandomForestClassifier\n",
        "model = make_pipeline(CountVectorizer(analyzer=lambda x: x), RandomForestClassifier(random_state=42))\n",
        "\n",
        "# Define a custom scorer for cross_val_score\n",
        "custom_scorer = make_scorer(accuracy_score)\n",
        "\n",
        "# Perform 5-fold cross-validation and get cross-validated predictions\n",
        "cv_predicted_labels = cross_val_predict(model, X, y, cv=StratifiedKFold(n_splits=5, shuffle=True, random_state=42))\n",
        "\n",
        "# Display the comparison of actual vs predicted labels for each fold\n",
        "comparison_df = pd.DataFrame({'Actual': y, 'Predicted': cv_predicted_labels})\n",
        "\n",
        "# Display the comparison\n",
        "print(\"Actual vs Predicted Labels (Cross-Validation):\")\n",
        "print(comparison_df)\n",
        "\n",
        "# Evaluate the model\n",
        "accuracy = accuracy_score(y, cv_predicted_labels)\n",
        "classification_report_str = classification_report(y, cv_predicted_labels)\n",
        "\n",
        "# Display the evaluation metrics\n",
        "print(\"\\nModel Evaluation (Cross-Validation):\")\n",
        "print(\"Accuracy: %.2f%%\" % (accuracy * 100.0))\n",
        "print(\"Classification Report:\")\n",
        "print(classification_report_str)"
      ],
      "metadata": {
        "colab": {
          "base_uri": "https://localhost:8080/"
        },
        "id": "PDjwzRbiPz5i",
        "outputId": "5133bc0e-27ad-4016-cd88-d56fbaa834bd"
      },
      "execution_count": null,
      "outputs": [
        {
          "output_type": "stream",
          "name": "stdout",
          "text": [
            "Actual vs Predicted Labels (Cross-Validation):\n",
            "     Actual Predicted\n",
            "0     anger     anger\n",
            "1     anger     anger\n",
            "2       joy       joy\n",
            "3      fear      fear\n",
            "4     anger     anger\n",
            "...     ...       ...\n",
            "2093    joy       joy\n",
            "2094    joy       joy\n",
            "2095    joy       joy\n",
            "2096    joy       joy\n",
            "2097    joy       joy\n",
            "\n",
            "[2098 rows x 2 columns]\n",
            "\n",
            "Model Evaluation (Cross-Validation):\n",
            "Accuracy: 92.80%\n",
            "Classification Report:\n",
            "              precision    recall  f1-score   support\n",
            "\n",
            "       anger       0.92      0.93      0.93       518\n",
            "        fear       0.89      0.96      0.92       511\n",
            "         joy       0.98      0.92      0.95       539\n",
            "     sadness       0.93      0.90      0.91       530\n",
            "\n",
            "    accuracy                           0.93      2098\n",
            "   macro avg       0.93      0.93      0.93      2098\n",
            "weighted avg       0.93      0.93      0.93      2098\n",
            "\n"
          ]
        }
      ]
    },
    {
      "cell_type": "markdown",
      "source": [
        "\n",
        "\n",
        "###**Adaboost**\n",
        "\n"
      ],
      "metadata": {
        "id": "aHm5WmIkGJcu"
      }
    },
    {
      "cell_type": "code",
      "source": [
        "from sklearn.ensemble import AdaBoostClassifier\n",
        "\n",
        "# Create an AdaBoost classifier\n",
        "model = make_pipeline(CountVectorizer(analyzer=lambda x: x), AdaBoostClassifier(n_estimators=100))\n",
        "\n",
        "# Perform 5-fold cross-validation\n",
        "cv_predicted_labels = cross_val_predict(model, X, y, cv=StratifiedKFold(n_splits=5, shuffle=True))\n",
        "\n",
        "# Display the comparison of actual vs predicted labels for each fold\n",
        "comparison_df = pd.DataFrame({'Actual': y, 'Predicted': cv_predicted_labels})\n",
        "\n",
        "# Display the comparison\n",
        "print(\"Actual vs Predicted Labels (Cross-Validation):\")\n",
        "print(comparison_df)\n",
        "\n",
        "# Evaluate the model\n",
        "accuracy = accuracy_score(y, cv_predicted_labels)\n",
        "print(\"Accuracy: %.2f%%\" % (accuracy * 100.0))\n",
        "\n",
        "classification_report_str = classification_report(y, cv_predicted_labels)\n",
        "print(\"Classification Report:\")\n",
        "print(classification_report_str)"
      ],
      "metadata": {
        "id": "CnzFZVtyG8rO",
        "outputId": "902a6c8c-d7e6-4ea5-9d15-07c45fe8104e",
        "colab": {
          "base_uri": "https://localhost:8080/"
        }
      },
      "execution_count": null,
      "outputs": [
        {
          "output_type": "stream",
          "name": "stdout",
          "text": [
            "Actual vs Predicted Labels (Cross-Validation):\n",
            "     Actual Predicted\n",
            "0     anger     anger\n",
            "1     anger     anger\n",
            "2       joy       joy\n",
            "3      fear      fear\n",
            "4     anger     anger\n",
            "...     ...       ...\n",
            "2093    joy       joy\n",
            "2094    joy   sadness\n",
            "2095    joy       joy\n",
            "2096    joy       joy\n",
            "2097    joy       joy\n",
            "\n",
            "[2098 rows x 2 columns]\n",
            "Accuracy: 82.60%\n",
            "Classification Report:\n",
            "              precision    recall  f1-score   support\n",
            "\n",
            "       anger       0.85      0.77      0.81       518\n",
            "        fear       0.95      0.80      0.87       511\n",
            "         joy       0.97      0.81      0.89       539\n",
            "     sadness       0.65      0.92      0.76       530\n",
            "\n",
            "    accuracy                           0.83      2098\n",
            "   macro avg       0.86      0.83      0.83      2098\n",
            "weighted avg       0.86      0.83      0.83      2098\n",
            "\n"
          ]
        }
      ]
    },
    {
      "cell_type": "markdown",
      "source": [
        "###**Xgboost**"
      ],
      "metadata": {
        "id": "YreaKHbqHFtr"
      }
    },
    {
      "cell_type": "code",
      "source": [
        "from xgboost import XGBClassifier\n",
        "\n",
        "# XGBoost model\n",
        "model = make_pipeline(\n",
        "    CountVectorizer(),\n",
        "    XGBClassifier(n_estimators=100, learning_rate=0.1)\n",
        ")\n",
        "\n",
        "#because xgboost require numeric so we change the data a little bit\n",
        "X_xg = df['data'].apply(lambda x: \" \".join(x)).tolist()\n",
        "label_map = {\"anger\": 0, \"fear\": 1, \"joy\": 2, \"sadness\": 3}\n",
        "y_xg = y.map(label_map)\n",
        "\n",
        "# Cross validation\n",
        "cv_predicted = cross_val_predict(model, X_xg, y_xg, cv=5)\n",
        "\n",
        "# Display the comparison of actual vs predicted labels for each fold\n",
        "comparison_df = pd.DataFrame({'Actual': y_xg, 'Predicted': cv_predicted_labels})\n",
        "\n",
        "# Display the comparison\n",
        "print(\"Actual vs Predicted Labels (Cross-Validation):\")\n",
        "print(comparison_df)\n",
        "\n",
        "# Evaluate model\n",
        "accuracy = accuracy_score(y_xg, cv_predicted)\n",
        "print(\"Accuracy: %.2f%%\" % (accuracy * 100.0))\n",
        "\n",
        "report = classification_report(y_xg, cv_predicted)\n",
        "print(\"Classification Report:\")\n",
        "print(report)"
      ],
      "metadata": {
        "id": "zQazRbVtHMcL",
        "outputId": "d0f097c5-8fb9-4105-9a2f-99644883284e",
        "colab": {
          "base_uri": "https://localhost:8080/"
        }
      },
      "execution_count": null,
      "outputs": [
        {
          "output_type": "stream",
          "name": "stdout",
          "text": [
            "Actual vs Predicted Labels (Cross-Validation):\n",
            "      Actual Predicted\n",
            "0          0     anger\n",
            "1          0     anger\n",
            "2          2       joy\n",
            "3          1      fear\n",
            "4          0     anger\n",
            "...      ...       ...\n",
            "2093       2       joy\n",
            "2094       2   sadness\n",
            "2095       2       joy\n",
            "2096       2       joy\n",
            "2097       2       joy\n",
            "\n",
            "[2098 rows x 2 columns]\n",
            "Accuracy: 90.80%\n",
            "Classification Report:\n",
            "              precision    recall  f1-score   support\n",
            "\n",
            "           0       0.93      0.87      0.90       518\n",
            "           1       0.98      0.89      0.93       511\n",
            "           2       0.98      0.93      0.95       539\n",
            "           3       0.78      0.94      0.86       530\n",
            "\n",
            "    accuracy                           0.91      2098\n",
            "   macro avg       0.92      0.91      0.91      2098\n",
            "weighted avg       0.92      0.91      0.91      2098\n",
            "\n"
          ]
        }
      ]
    },
    {
      "cell_type": "markdown",
      "source": [
        "#**Data Visualization**"
      ],
      "metadata": {
        "id": "w595wyb9JoTX"
      }
    },
    {
      "cell_type": "code",
      "source": [
        "import matplotlib.pyplot as plt\n",
        "import numpy as np\n",
        "\n",
        "# Create sample scores for each fold\n",
        "rf_scores = [0.93, 0.94, 0.92, 0.91, 0.93]\n",
        "ada_scores = [0.85, 0.79, 0.84, 0.81, 0.84]\n",
        "xgb_scores = [0.92, 0.89, 0.91, 0.89, 0.91]\n",
        "\n",
        "# Calculate means\n",
        "rf_mean = np.mean(rf_scores)\n",
        "ada_mean = np.mean(ada_scores)\n",
        "xgb_mean = np.mean(xgb_scores)\n",
        "\n",
        "fig, ax = plt.subplots()\n",
        "\n",
        "# Create boxplots\n",
        "ax.boxplot([rf_scores, ada_scores, xgb_scores], labels=['Random Forest', 'AdaBoost', 'XGBoost'])\n",
        "\n",
        "# Add mean markers\n",
        "ax.scatter([1, 2, 3], [rf_mean, ada_mean, xgb_mean], marker='D', color='black')\n",
        "\n",
        "ax.set_title(\"Model Accuracy Comparison\")\n",
        "ax.set_ylabel(\"Accuracy\")\n",
        "ax.set_ylim(0.75, 1)\n",
        "\n",
        "plt.show()"
      ],
      "metadata": {
        "colab": {
          "base_uri": "https://localhost:8080/",
          "height": 452
        },
        "id": "_blaolzWJspj",
        "outputId": "32dc1ef7-3688-4524-8bb9-39833b831ce0"
      },
      "execution_count": null,
      "outputs": [
        {
          "output_type": "display_data",
          "data": {
            "text/plain": [
              "<Figure size 640x480 with 1 Axes>"
            ],
            "image/png": "[encoded data removed]"
          },
          "metadata": {}
        }
      ]
    },
    {
      "cell_type": "code",
      "source": [
        "import matplotlib.pyplot as plt\n",
        "\n",
        "rf_score = 0.9280\n",
        "ada_score = 0.8260\n",
        "xgb_score = 0.9080\n",
        "\n",
        "models = ['Random Forest', 'AdaBoost', 'XGBoost']\n",
        "scores = [rf_score, ada_score, xgb_score]\n",
        "\n",
        "fig, ax = plt.subplots()\n",
        "ax.bar(models, scores)\n",
        "ax.set_title(\"Cross-Validation Accuracy Comparison\")\n",
        "ax.set_ylabel(\"Accuracy\")\n",
        "\n",
        "for i, v in enumerate(scores):\n",
        "    ax.text(i, v+0.01, str(round(v, 4)), ha='center')\n",
        "\n",
        "plt.show()"
      ],
      "metadata": {
        "colab": {
          "base_uri": "https://localhost:8080/",
          "height": 452
        },
        "id": "tcUqv9PmJ-tp",
        "outputId": "96530a71-c87d-4f0a-9f66-0aa578cc29ab"
      },
      "execution_count": null,
      "outputs": [
        {
          "output_type": "display_data",
          "data": {
            "text/plain": [
              "<Figure size 640x480 with 1 Axes>"
            ],
            "image/png": "[encoded data removed]"
          },
          "metadata": {}
        }
      ]
    },
    {
      "cell_type": "code",
      "source": [
        "import matplotlib.pyplot as plt\n",
        "\n",
        "rf_scores = [0.93, 0.94, 0.92, 0.91, 0.93]\n",
        "ada_scores = [0.85, 0.79, 0.84, 0.81, 0.84]\n",
        "xgb_scores = [0.92, 0.89, 0.91, 0.89, 0.91]\n",
        "\n",
        "x = np.arange(len(rf_scores))\n",
        "\n",
        "fig, ax = plt.subplots()\n",
        "\n",
        "ax.bar(x - 0.2, rf_scores, 0.2, label='Random Forest')\n",
        "ax.bar(x, ada_scores, 0.2, label='AdaBoost')\n",
        "ax.bar(x + 0.2, xgb_scores, 0.2, label='XGBoost')\n",
        "\n",
        "ax.set_xticks(x)\n",
        "ax.set_xticklabels([\"Fold 1\", \"Fold 2\", \"Fold 3\", \"Fold 4\", \"Fold 5\"])\n",
        "ax.legend()\n",
        "\n",
        "plt.show()"
      ],
      "metadata": {
        "colab": {
          "base_uri": "https://localhost:8080/",
          "height": 430
        },
        "id": "K8EnWGaKLE4d",
        "outputId": "9d1c9eb8-d6c1-43a7-b3ac-76599fa1b35e"
      },
      "execution_count": null,
      "outputs": [
        {
          "output_type": "display_data",
          "data": {
            "text/plain": [
              "<Figure size 640x480 with 1 Axes>"
            ],
            "image/png": "[encoded data removed]"
          },
          "metadata": {}
        }
      ]
    },
    {
      "cell_type": "code",
      "source": [
        "import matplotlib.pyplot as plt\n",
        "import numpy as np\n",
        "\n",
        "rf_scores = [0.93, 0.94, 0.92, 0.91, 0.93]\n",
        "ada_scores = [0.85, 0.79, 0.84, 0.81, 0.84]\n",
        "xgb_scores = [0.92, 0.89, 0.91, 0.89, 0.91]\n",
        "\n",
        "# Set up the figure\n",
        "fig, ax = plt.subplots()\n",
        "\n",
        "# Plot the violins\n",
        "ax.violinplot([rf_scores, ada_scores, xgb_scores],\n",
        "              showmeans=False,\n",
        "              showmedians=True)\n",
        "\n",
        "# Customize the ticks\n",
        "ax.set_xticks([1, 2, 3])\n",
        "ax.set_xticklabels(['Random\\nForest', 'AdaBoost', 'XGBoost'])\n",
        "ax.set_ylabel('Accuracy')\n",
        "\n",
        "# Final touches\n",
        "plt.tight_layout()\n",
        "plt.show()"
      ],
      "metadata": {
        "colab": {
          "base_uri": "https://localhost:8080/",
          "height": 487
        },
        "id": "CaXR2kLTLJsd",
        "outputId": "0c42f6c5-3f70-469a-e5fd-4173f28aec80"
      },
      "execution_count": null,
      "outputs": [
        {
          "output_type": "display_data",
          "data": {
            "text/plain": [
              "<Figure size 640x480 with 1 Axes>"
            ],
            "image/png": "[encoded data removed]"
          },
          "metadata": {}
        }
      ]
    },
    {
      "cell_type": "markdown",
      "source": [
        "#**Result & Analysis**"
      ],
      "metadata": {
        "id": "_q3TdzfRZQK6"
      }
    },
    {
      "cell_type": "markdown",
      "source": [
        "\n",
        "1. Random Forest\n",
        "- Accuracy: 92.80%\n",
        "- Precision: 0.92 - 0.98\n",
        "- Recall: 0.90 - 0.93\n",
        "- F1-Score: 0.91 - 0.95\n",
        "\n",
        "Overall the Random Forest model demonstrated the best performance compared to the other models, with 92.80% accuracy on cross-validation. The precision, recall, and F1-score values were also highest and most stable among the three models.\n",
        "\n",
        "2. AdaBoost\n",
        "- Accuracy: 82.60%\n",
        "- Precision: 0.65 - 0.97\n",
        "- Recall: 0.77 - 0.92\n",
        "- F1-Score: 0.76 - 0.89\n",
        "\n",
        "The performance of AdaBoost was slightly lower than Random Forest, with 82.60% accuracy. The evaluation metrics were also more varied across emotion classes.\n",
        "\n",
        "3. XGBoost\n",
        "- Accuracy: 90.80%\n",
        "- Precision: 0.78 - 0.98\n",
        "- Recall: 0.87 - 0.94\n",
        "- F1-Score: 0.86 - 0.95\n",
        "\n",
        "XGBoost demonstrated performance in between Random Forest and AdaBoost. Its accuracy was quite high at 90.80%, but other metrics were slightly more varied across emotion classes.\n",
        "\n",
        "Overall, Random Forest showed the best and most stable results on this Sundanese tweet dataset. But XGBoost was also competitive with only around 2% difference in accuracy from Random Forest."
      ],
      "metadata": {
        "id": "l5yblsDnZa8w"
      }
    },
    {
      "cell_type": "markdown",
      "source": [],
      "metadata": {
        "id": "fSbjqlG0ZpOO"
      }
    }
  ]
}