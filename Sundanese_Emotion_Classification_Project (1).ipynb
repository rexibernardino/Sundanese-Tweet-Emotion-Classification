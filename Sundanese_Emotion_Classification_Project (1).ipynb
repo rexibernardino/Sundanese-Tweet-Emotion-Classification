{
  "nbformat": 4,
  "nbformat_minor": 0,
  "metadata": {
    "colab": {
      "provenance": [],
      "toc_visible": true
    },
    "kernelspec": {
      "name": "python3",
      "display_name": "Python 3"
    },
    "language_info": {
      "name": "python"
    }
  },
  "cells": [
    {
      "cell_type": "markdown",
      "source": [
        "# Sundanese Tweet Emotion Classification (NLP)\n",
        "---\n",
        "\n",
        "\n"
      ],
      "metadata": {
        "id": "NqPST9Uri6Es"
      }
    },
    {
      "cell_type": "markdown",
      "source": [
        "In this project, we decided to try an NLP Task (Emotion Classification).\n",
        "\n",
        "The dataset are gathered from Twitter API that is filtered by using some hashtags which are representing Sundanese emotion. These are the hashtags :\n",
        " *#persib*, *#corona*, *#saredih*,\n",
        "*#nyakakak*, *#garoblog*, *#sangsara*, *#gumujeng*, *#bungah*,\n",
        "*#sararieun*, *#ceurik*, and *#hariwang*.\n",
        "\n",
        "There are 4 emotions in this dataset, which are :\n",
        "1. **anger**\n",
        "2. **joy**\n",
        "3. **fear**\n",
        "4. **sadness**\n",
        "\n",
        "We will use Random Forest as a baseline model in this project, and use another method as comparison.\n",
        "\n",
        "Fizio Ramadhan Herman - 1301213219\n",
        "\n",
        "M. Ridho Sunation - 1301213038\n",
        "\n",
        "Mario Bernardino Surexi Keubapa - 1301213220"
      ],
      "metadata": {
        "id": "luSwPZcyjI84"
      }
    },
    {
      "cell_type": "markdown",
      "source": [
        "# Importing Dependencies and Dataset"
      ],
      "metadata": {
        "id": "2joPmL_3pV0B"
      }
    },
    {
      "cell_type": "code",
      "source": [
        "import numpy as np\n",
        "import pandas as pd\n",
        "import seaborn as sns\n",
        "import matplotlib.pyplot as plt\n",
        "from google.colab import drive\n",
        "drive.mount('/content/drive')"
      ],
      "metadata": {
        "colab": {
          "base_uri": "https://localhost:8080/"
        },
        "id": "bzi0PcN4i8y6",
        "outputId": "f8eedcbe-80ea-4d26-b5b8-94d18ef3e14e"
      },
      "execution_count": null,
      "outputs": [
        {
          "output_type": "stream",
          "name": "stdout",
          "text": [
            "Drive already mounted at /content/drive; to attempt to forcibly remount, call drive.mount(\"/content/drive\", force_remount=True).\n"
          ]
        }
      ]
    },
    {
      "cell_type": "code",
      "source": [
        "df = pd.read_csv('/content/drive/MyDrive/Dataset/sundanese_twitter_dataset/data.csv')\n",
        "df.head()"
      ],
      "metadata": {
        "colab": {
          "base_uri": "https://localhost:8080/",
          "height": 206
        },
        "id": "sWUSr4LXqhqp",
        "outputId": "6ef7c75a-64a6-48a2-adf2-1c8ea44d4090"
      },
      "execution_count": null,
      "outputs": [
        {
          "output_type": "execute_result",
          "data": {
            "text/plain": [
              "   label                                               data\n",
              "0  anger  sok geura leungit atuh sia teh corona, matak g...\n",
              "1  anger  Nu katoel katuhu nu nyerina kenca, goblog wasitna\n",
              "2    joy  Bingah pisan patepang sareng pangerasa. Sing k...\n",
              "3   fear  asa hariwang kieu.. lalakon hirup teh asa nyor...\n",
              "4  anger  Orang mana sih anying, sampis pisan. Bunuh ae ..."
            ],
            "text/html": [
              "\n",
              "  <div id=\"df-0cf9cda8-8dae-4f83-b725-69cb4319d9b0\" class=\"colab-df-container\">\n",
              "    <div>\n",
              "<style scoped>\n",
              "    .dataframe tbody tr th:only-of-type {\n",
              "        vertical-align: middle;\n",
              "    }\n",
              "\n",
              "    .dataframe tbody tr th {\n",
              "        vertical-align: top;\n",
              "    }\n",
              "\n",
              "    .dataframe thead th {\n",
              "        text-align: right;\n",
              "    }\n",
              "</style>\n",
              "<table border=\"1\" class=\"dataframe\">\n",
              "  <thead>\n",
              "    <tr style=\"text-align: right;\">\n",
              "      <th></th>\n",
              "      <th>label</th>\n",
              "      <th>data</th>\n",
              "    </tr>\n",
              "  </thead>\n",
              "  <tbody>\n",
              "    <tr>\n",
              "      <th>0</th>\n",
              "      <td>anger</td>\n",
              "      <td>sok geura leungit atuh sia teh corona, matak g...</td>\n",
              "    </tr>\n",
              "    <tr>\n",
              "      <th>1</th>\n",
              "      <td>anger</td>\n",
              "      <td>Nu katoel katuhu nu nyerina kenca, goblog wasitna</td>\n",
              "    </tr>\n",
              "    <tr>\n",
              "      <th>2</th>\n",
              "      <td>joy</td>\n",
              "      <td>Bingah pisan patepang sareng pangerasa. Sing k...</td>\n",
              "    </tr>\n",
              "    <tr>\n",
              "      <th>3</th>\n",
              "      <td>fear</td>\n",
              "      <td>asa hariwang kieu.. lalakon hirup teh asa nyor...</td>\n",
              "    </tr>\n",
              "    <tr>\n",
              "      <th>4</th>\n",
              "      <td>anger</td>\n",
              "      <td>Orang mana sih anying, sampis pisan. Bunuh ae ...</td>\n",
              "    </tr>\n",
              "  </tbody>\n",
              "</table>\n",
              "</div>\n",
              "    <div class=\"colab-df-buttons\">\n",
              "\n",
              "  <div class=\"colab-df-container\">\n",
              "    <button class=\"colab-df-convert\" onclick=\"convertToInteractive('df-0cf9cda8-8dae-4f83-b725-69cb4319d9b0')\"\n",
              "            title=\"Convert this dataframe to an interactive table.\"\n",
              "            style=\"display:none;\">\n",
              "\n",
              "  <svg xmlns=\"http://www.w3.org/2000/svg\" height=\"24px\" viewBox=\"0 -960 960 960\">\n",
              "    <path d=\"M120-120v-720h720v720H120Zm60-500h600v-160H180v160Zm220 220h160v-160H400v160Zm0 220h160v-160H400v160ZM180-400h160v-160H180v160Zm440 0h160v-160H620v160ZM180-180h160v-160H180v160Zm440 0h160v-160H620v160Z\"/>\n",
              "  </svg>\n",
              "    </button>\n",
              "\n",
              "  <style>\n",
              "    .colab-df-container {\n",
              "      display:flex;\n",
              "      gap: 12px;\n",
              "    }\n",
              "\n",
              "    .colab-df-convert {\n",
              "      background-color: #E8F0FE;\n",
              "      border: none;\n",
              "      border-radius: 50%;\n",
              "      cursor: pointer;\n",
              "      display: none;\n",
              "      fill: #1967D2;\n",
              "      height: 32px;\n",
              "      padding: 0 0 0 0;\n",
              "      width: 32px;\n",
              "    }\n",
              "\n",
              "    .colab-df-convert:hover {\n",
              "      background-color: #E2EBFA;\n",
              "      box-shadow: 0px 1px 2px rgba(60, 64, 67, 0.3), 0px 1px 3px 1px rgba(60, 64, 67, 0.15);\n",
              "      fill: #174EA6;\n",
              "    }\n",
              "\n",
              "    .colab-df-buttons div {\n",
              "      margin-bottom: 4px;\n",
              "    }\n",
              "\n",
              "    [theme=dark] .colab-df-convert {\n",
              "      background-color: #3B4455;\n",
              "      fill: #D2E3FC;\n",
              "    }\n",
              "\n",
              "    [theme=dark] .colab-df-convert:hover {\n",
              "      background-color: #434B5C;\n",
              "      box-shadow: 0px 1px 3px 1px rgba(0, 0, 0, 0.15);\n",
              "      filter: drop-shadow(0px 1px 2px rgba(0, 0, 0, 0.3));\n",
              "      fill: #FFFFFF;\n",
              "    }\n",
              "  </style>\n",
              "\n",
              "    <script>\n",
              "      const buttonEl =\n",
              "        document.querySelector('#df-0cf9cda8-8dae-4f83-b725-69cb4319d9b0 button.colab-df-convert');\n",
              "      buttonEl.style.display =\n",
              "        google.colab.kernel.accessAllowed ? 'block' : 'none';\n",
              "\n",
              "      async function convertToInteractive(key) {\n",
              "        const element = document.querySelector('#df-0cf9cda8-8dae-4f83-b725-69cb4319d9b0');\n",
              "        const dataTable =\n",
              "          await google.colab.kernel.invokeFunction('convertToInteractive',\n",
              "                                                    [key], {});\n",
              "        if (!dataTable) return;\n",
              "\n",
              "        const docLinkHtml = 'Like what you see? Visit the ' +\n",
              "          '<a target=\"_blank\" href=https://colab.research.google.com/notebooks/data_table.ipynb>data table notebook</a>'\n",
              "          + ' to learn more about interactive tables.';\n",
              "        element.innerHTML = '';\n",
              "        dataTable['output_type'] = 'display_data';\n",
              "        await google.colab.output.renderOutput(dataTable, element);\n",
              "        const docLink = document.createElement('div');\n",
              "        docLink.innerHTML = docLinkHtml;\n",
              "        element.appendChild(docLink);\n",
              "      }\n",
              "    </script>\n",
              "  </div>\n",
              "\n",
              "\n",
              "<div id=\"df-68516de0-3339-4c8e-bbf4-ed1c59d4bc22\">\n",
              "  <button class=\"colab-df-quickchart\" onclick=\"quickchart('df-68516de0-3339-4c8e-bbf4-ed1c59d4bc22')\"\n",
              "            title=\"Suggest charts\"\n",
              "            style=\"display:none;\">\n",
              "\n",
              "<svg xmlns=\"http://www.w3.org/2000/svg\" height=\"24px\"viewBox=\"0 0 24 24\"\n",
              "     width=\"24px\">\n",
              "    <g>\n",
              "        <path d=\"M19 3H5c-1.1 0-2 .9-2 2v14c0 1.1.9 2 2 2h14c1.1 0 2-.9 2-2V5c0-1.1-.9-2-2-2zM9 17H7v-7h2v7zm4 0h-2V7h2v10zm4 0h-2v-4h2v4z\"/>\n",
              "    </g>\n",
              "</svg>\n",
              "  </button>\n",
              "\n",
              "<style>\n",
              "  .colab-df-quickchart {\n",
              "      --bg-color: #E8F0FE;\n",
              "      --fill-color: #1967D2;\n",
              "      --hover-bg-color: #E2EBFA;\n",
              "      --hover-fill-color: #174EA6;\n",
              "      --disabled-fill-color: #AAA;\n",
              "      --disabled-bg-color: #DDD;\n",
              "  }\n",
              "\n",
              "  [theme=dark] .colab-df-quickchart {\n",
              "      --bg-color: #3B4455;\n",
              "      --fill-color: #D2E3FC;\n",
              "      --hover-bg-color: #434B5C;\n",
              "      --hover-fill-color: #FFFFFF;\n",
              "      --disabled-bg-color: #3B4455;\n",
              "      --disabled-fill-color: #666;\n",
              "  }\n",
              "\n",
              "  .colab-df-quickchart {\n",
              "    background-color: var(--bg-color);\n",
              "    border: none;\n",
              "    border-radius: 50%;\n",
              "    cursor: pointer;\n",
              "    display: none;\n",
              "    fill: var(--fill-color);\n",
              "    height: 32px;\n",
              "    padding: 0;\n",
              "    width: 32px;\n",
              "  }\n",
              "\n",
              "  .colab-df-quickchart:hover {\n",
              "    background-color: var(--hover-bg-color);\n",
              "    box-shadow: 0 1px 2px rgba(60, 64, 67, 0.3), 0 1px 3px 1px rgba(60, 64, 67, 0.15);\n",
              "    fill: var(--button-hover-fill-color);\n",
              "  }\n",
              "\n",
              "  .colab-df-quickchart-complete:disabled,\n",
              "  .colab-df-quickchart-complete:disabled:hover {\n",
              "    background-color: var(--disabled-bg-color);\n",
              "    fill: var(--disabled-fill-color);\n",
              "    box-shadow: none;\n",
              "  }\n",
              "\n",
              "  .colab-df-spinner {\n",
              "    border: 2px solid var(--fill-color);\n",
              "    border-color: transparent;\n",
              "    border-bottom-color: var(--fill-color);\n",
              "    animation:\n",
              "      spin 1s steps(1) infinite;\n",
              "  }\n",
              "\n",
              "  @keyframes spin {\n",
              "    0% {\n",
              "      border-color: transparent;\n",
              "      border-bottom-color: var(--fill-color);\n",
              "      border-left-color: var(--fill-color);\n",
              "    }\n",
              "    20% {\n",
              "      border-color: transparent;\n",
              "      border-left-color: var(--fill-color);\n",
              "      border-top-color: var(--fill-color);\n",
              "    }\n",
              "    30% {\n",
              "      border-color: transparent;\n",
              "      border-left-color: var(--fill-color);\n",
              "      border-top-color: var(--fill-color);\n",
              "      border-right-color: var(--fill-color);\n",
              "    }\n",
              "    40% {\n",
              "      border-color: transparent;\n",
              "      border-right-color: var(--fill-color);\n",
              "      border-top-color: var(--fill-color);\n",
              "    }\n",
              "    60% {\n",
              "      border-color: transparent;\n",
              "      border-right-color: var(--fill-color);\n",
              "    }\n",
              "    80% {\n",
              "      border-color: transparent;\n",
              "      border-right-color: var(--fill-color);\n",
              "      border-bottom-color: var(--fill-color);\n",
              "    }\n",
              "    90% {\n",
              "      border-color: transparent;\n",
              "      border-bottom-color: var(--fill-color);\n",
              "    }\n",
              "  }\n",
              "</style>\n",
              "\n",
              "  <script>\n",
              "    async function quickchart(key) {\n",
              "      const quickchartButtonEl =\n",
              "        document.querySelector('#' + key + ' button');\n",
              "      quickchartButtonEl.disabled = true;  // To prevent multiple clicks.\n",
              "      quickchartButtonEl.classList.add('colab-df-spinner');\n",
              "      try {\n",
              "        const charts = await google.colab.kernel.invokeFunction(\n",
              "            'suggestCharts', [key], {});\n",
              "      } catch (error) {\n",
              "        console.error('Error during call to suggestCharts:', error);\n",
              "      }\n",
              "      quickchartButtonEl.classList.remove('colab-df-spinner');\n",
              "      quickchartButtonEl.classList.add('colab-df-quickchart-complete');\n",
              "    }\n",
              "    (() => {\n",
              "      let quickchartButtonEl =\n",
              "        document.querySelector('#df-68516de0-3339-4c8e-bbf4-ed1c59d4bc22 button');\n",
              "      quickchartButtonEl.style.display =\n",
              "        google.colab.kernel.accessAllowed ? 'block' : 'none';\n",
              "    })();\n",
              "  </script>\n",
              "</div>\n",
              "    </div>\n",
              "  </div>\n"
            ]
          },
          "metadata": {},
          "execution_count": 75
        }
      ]
    },
    {
      "cell_type": "markdown",
      "source": [
        "As we can see here, the dataset only contains 2 features, which are :\n",
        "1. label := for the emotion classification\n",
        "2. data := the tweet in Sundanese"
      ],
      "metadata": {
        "id": "pKR0aOqSr907"
      }
    },
    {
      "cell_type": "markdown",
      "source": [
        "# Visualizing the Dataset"
      ],
      "metadata": {
        "id": "Sc_C3p84sZGA"
      }
    },
    {
      "cell_type": "code",
      "source": [
        "emotion_colors = {\n",
        "    'joy': 'skyblue',\n",
        "    'sadness': 'grey',\n",
        "    'anger': 'darkred',\n",
        "    'fear' : 'darkorange'\n",
        "}\n",
        "\n",
        "# counts each classes\n",
        "label_counts = df['label'].value_counts()\n",
        "\n",
        "plt.figure(figsize=(10, 6))\n",
        "sns.barplot(x=label_counts.index, y=label_counts.values, palette=[emotion_colors[label] for label in label_counts.index])\n",
        "plt.title('Distribution of Emotion Classes')\n",
        "plt.xlabel('Emotion Classes')\n",
        "plt.ylabel('Number of Samples')\n",
        "plt.show()"
      ],
      "metadata": {
        "colab": {
          "base_uri": "https://localhost:8080/",
          "height": 564
        },
        "id": "OpBn0Cn9rYCN",
        "outputId": "57ef0af8-01d9-4e52-9f18-37f74ccfd5f8"
      },
      "execution_count": null,
      "outputs": [
        {
          "output_type": "display_data",
          "data": {
            "text/plain": [
              "<Figure size 1000x600 with 1 Axes>"
            ],
            "image/png": "[encoded data removed]"
          },
          "metadata": {}
        }
      ]
    },
    {
      "cell_type": "code",
      "source": [
        "print(label_counts)"
      ],
      "metadata": {
        "colab": {
          "base_uri": "https://localhost:8080/"
        },
        "id": "aDlM3-Rjs_jU",
        "outputId": "70462ae3-5aa2-4fb6-982b-d00094e6d7f0"
      },
      "execution_count": null,
      "outputs": [
        {
          "output_type": "stream",
          "name": "stdout",
          "text": [
            "joy        539\n",
            "sadness    530\n",
            "anger      518\n",
            "fear       511\n",
            "Name: label, dtype: int64\n"
          ]
        }
      ]
    },
    {
      "cell_type": "markdown",
      "source": [
        "The dataset contains **2098** rows of data, and it looks equally distributed"
      ],
      "metadata": {
        "id": "daijduoTtI2h"
      }
    },
    {
      "cell_type": "markdown",
      "source": [
        "# Data Preprocessing"
      ],
      "metadata": {
        "id": "aqdyg-G5wabh"
      }
    },
    {
      "cell_type": "markdown",
      "source": [
        "## Lowercasing"
      ],
      "metadata": {
        "id": "Ns89euMcxB-m"
      }
    },
    {
      "cell_type": "code",
      "source": [
        "df['data'] = df['data'].str.lower()\n",
        "df['data']"
      ],
      "metadata": {
        "colab": {
          "base_uri": "https://localhost:8080/"
        },
        "id": "ao6wmSKasdXc",
        "outputId": "91af75d3-8ff7-452c-ad01-c10d79307f29"
      },
      "execution_count": null,
      "outputs": [
        {
          "output_type": "execute_result",
          "data": {
            "text/plain": [
              "0       sok geura leungit atuh sia teh corona, matak g...\n",
              "1       nu katoel katuhu nu nyerina kenca, goblog wasitna\n",
              "2       bingah pisan patepang sareng pangerasa. sing k...\n",
              "3       asa hariwang kieu.. lalakon hirup teh asa nyor...\n",
              "4       orang mana sih anying, sampis pisan. bunuh ae ...\n",
              "                              ...                        \n",
              "2093       meuni ngeunah ngabarakatak eeeuy uiiiiing....!\n",
              "2094    meuni ku endah, tebeda nami na gusti nu agung,...\n",
              "2095    meuni bungah kieu euy meunang di ngalam, nuhun...\n",
              "2096    meuni bingah ningalna ya alloh mudah\" pas 02 k...\n",
              "2097            meuni atoh ningali adi lanceuk guyub kitu\n",
              "Name: data, Length: 2098, dtype: object"
            ]
          },
          "metadata": {},
          "execution_count": 78
        }
      ]
    },
    {
      "cell_type": "markdown",
      "source": [
        "**Convert all text to lowercase**. This ensures consistency in the representation of words and helps the model generalize better by treating words in different cases as the same."
      ],
      "metadata": {
        "id": "bPOy-UdSxdUV"
      }
    },
    {
      "cell_type": "markdown",
      "source": [
        "## Removing Punctuation and Special Characters"
      ],
      "metadata": {
        "id": "OrmK8swWxlNt"
      }
    },
    {
      "cell_type": "code",
      "source": [
        "import re\n",
        "df['data'] = df['data'].apply(lambda x: re.sub(r'[^a-zA-Z\\s]', '', x))\n",
        "df['data']"
      ],
      "metadata": {
        "colab": {
          "base_uri": "https://localhost:8080/"
        },
        "id": "VB4xA2WMxK0U",
        "outputId": "00ee49bb-a89f-4456-de85-3b83898ed77e"
      },
      "execution_count": null,
      "outputs": [
        {
          "output_type": "execute_result",
          "data": {
            "text/plain": [
              "0       sok geura leungit atuh sia teh corona matak ge...\n",
              "1        nu katoel katuhu nu nyerina kenca goblog wasitna\n",
              "2       bingah pisan patepang sareng pangerasa sing ka...\n",
              "3       asa hariwang kieu lalakon hirup teh asa nyoran...\n",
              "4       orang mana sih anying sampis pisan bunuh ae la...\n",
              "                              ...                        \n",
              "2093            meuni ngeunah ngabarakatak eeeuy uiiiiing\n",
              "2094    meuni ku endah tebeda nami na gusti nu agung d...\n",
              "2095    meuni bungah kieu euy meunang di ngalam nuhun ...\n",
              "2096    meuni bingah ningalna ya alloh mudah pas  keng...\n",
              "2097            meuni atoh ningali adi lanceuk guyub kitu\n",
              "Name: data, Length: 2098, dtype: object"
            ]
          },
          "metadata": {},
          "execution_count": 79
        }
      ]
    },
    {
      "cell_type": "markdown",
      "source": [
        "**Remove unnecessary punctuation and special characters** that might not contribute much to the meaning of the text."
      ],
      "metadata": {
        "id": "Q42-7lFTzFRj"
      }
    },
    {
      "cell_type": "markdown",
      "source": [
        "## Tokenizing the words"
      ],
      "metadata": {
        "id": "mqnZ-X_aEcBU"
      }
    },
    {
      "cell_type": "code",
      "source": [
        "from nltk.tokenize import word_tokenize\n",
        "import nltk\n",
        "nltk.download('punkt')\n",
        "\n",
        "# Tokenize the 'data' column\n",
        "df['data'] = df['data'].apply(word_tokenize)\n",
        "df['data']"
      ],
      "metadata": {
        "colab": {
          "base_uri": "https://localhost:8080/"
        },
        "id": "fddksAKnEemN",
        "outputId": "803d3fd4-8d1a-408c-9955-573507355672"
      },
      "execution_count": null,
      "outputs": [
        {
          "output_type": "stream",
          "name": "stderr",
          "text": [
            "[nltk_data] Downloading package punkt to /root/nltk_data...\n",
            "[nltk_data]   Package punkt is already up-to-date!\n"
          ]
        },
        {
          "output_type": "execute_result",
          "data": {
            "text/plain": [
              "0       [sok, geura, leungit, atuh, sia, teh, corona, ...\n",
              "1       [nu, katoel, katuhu, nu, nyerina, kenca, goblo...\n",
              "2       [bingah, pisan, patepang, sareng, pangerasa, s...\n",
              "3       [asa, hariwang, kieu, lalakon, hirup, teh, asa...\n",
              "4       [orang, mana, sih, anying, sampis, pisan, bunu...\n",
              "                              ...                        \n",
              "2093      [meuni, ngeunah, ngabarakatak, eeeuy, uiiiiing]\n",
              "2094    [meuni, ku, endah, tebeda, nami, na, gusti, nu...\n",
              "2095    [meuni, bungah, kieu, euy, meunang, di, ngalam...\n",
              "2096    [meuni, bingah, ningalna, ya, alloh, mudah, pa...\n",
              "2097    [meuni, atoh, ningali, adi, lanceuk, guyub, kitu]\n",
              "Name: data, Length: 2098, dtype: object"
            ]
          },
          "metadata": {},
          "execution_count": 80
        }
      ]
    },
    {
      "cell_type": "markdown",
      "source": [
        "**Break the text into individual words or tokens**, to help convert raw text into a format that is suitable for analysis and model training."
      ],
      "metadata": {
        "id": "H8Mp9MW-E0CR"
      }
    },
    {
      "cell_type": "markdown",
      "source": [
        "## Removing stopwords"
      ],
      "metadata": {
        "id": "M0Dl6RzMDft3"
      }
    },
    {
      "cell_type": "markdown",
      "source": [
        "in this dataset that we've downloaded, it came with its own stopwords in seperated .txt file, which is written in **Sundanese**"
      ],
      "metadata": {
        "id": "zcVmpg7_Din1"
      }
    },
    {
      "cell_type": "code",
      "source": [
        "sundanese_stopwords = '/content/drive/MyDrive/Dataset/sundanese_twitter_dataset/stopwordv1.txt'\n",
        "\n",
        "with open(sundanese_stopwords, 'r') as file:\n",
        "    stopwords = set(file.read().splitlines())\n",
        "\n",
        "# Function to remove custom stopwords\n",
        "def remove_stopwords(tokens):\n",
        "    return [word for word in tokens if word.lower() not in stopwords]\n",
        "\n",
        "# Apply the function to the 'data' column\n",
        "df['data'] = df['data'].apply(remove_stopwords)\n",
        "df['data']\n"
      ],
      "metadata": {
        "colab": {
          "base_uri": "https://localhost:8080/"
        },
        "id": "xhGfNKVTyuoR",
        "outputId": "088f4e09-9214-4c82-b75b-ad8209deb74a"
      },
      "execution_count": null,
      "outputs": [
        {
          "output_type": "execute_result",
          "data": {
            "text/plain": [
              "0       [geura, leungit, sia, corona, gelo, yeuh, aing...\n",
              "1       [katoel, katuhu, nyerina, kenca, goblog, wasitna]\n",
              "2       [bingah, patepang, pangerasa, sing, katampi, k...\n",
              "3                   [hariwang, lalakon, hirup, nyorangan]\n",
              "4          [orang, sih, anying, sampis, bunuh, ae, bunuh]\n",
              "                              ...                        \n",
              "2093      [meuni, ngeunah, ngabarakatak, eeeuy, uiiiiing]\n",
              "2094    [meuni, endah, tebeda, nami, gusti, agung, dim...\n",
              "2095    [meuni, bungah, meunang, ngalam, nuhun, bahh, ...\n",
              "2096    [meuni, bingah, ningalna, alloh, mudah, pas, k...\n",
              "2097          [meuni, atoh, ningali, adi, lanceuk, guyub]\n",
              "Name: data, Length: 2098, dtype: object"
            ]
          },
          "metadata": {},
          "execution_count": 81
        }
      ]
    },
    {
      "cell_type": "markdown",
      "source": [
        "# Data Modelling"
      ],
      "metadata": {
        "id": "njBxeK-aOGuo"
      }
    },
    {
      "cell_type": "markdown",
      "source": [
        "## Splitting the Data"
      ],
      "metadata": {
        "id": "jnH2Zk1WQBf9"
      }
    },
    {
      "cell_type": "code",
      "source": [
        "from sklearn.feature_extraction.text import CountVectorizer\n",
        "from sklearn.ensemble import RandomForestClassifier\n",
        "from sklearn.pipeline import make_pipeline\n",
        "from sklearn.model_selection import cross_val_predict, StratifiedKFold\n",
        "from sklearn.metrics import make_scorer, accuracy_score, classification_report\n",
        "\n",
        "\n",
        "# Extract features and labels\n",
        "X = df['data']\n",
        "y = df['label']"
      ],
      "metadata": {
        "id": "ga_lYqHBOcRu"
      },
      "execution_count": null,
      "outputs": []
    },
    {
      "cell_type": "markdown",
      "source": [
        "## **Random Forest**"
      ],
      "metadata": {
        "id": "YLhbQFNhRLlJ"
      }
    },
    {
      "cell_type": "code",
      "source": [
        "from sklearn.metrics import precision_score, recall_score, f1_score, accuracy_score\n",
        "model = make_pipeline(CountVectorizer(analyzer=lambda x: x), RandomForestClassifier(random_state=42))\n",
        "\n",
        "# Define a custom scorer for cross_val_score\n",
        "custom_scorer = make_scorer(accuracy_score)\n",
        "\n",
        "# Perform 5-fold cross-validation and get cross-validated predictions\n",
        "cv_predicted_labels = cross_val_predict(model, X, y, cv=StratifiedKFold(n_splits=5, shuffle=True, random_state=42))\n",
        "\n",
        "# Evaluate the model\n",
        "precision_RF = precision_score(y, cv_predicted_labels, average='weighted')\n",
        "recall_RF = recall_score(y, cv_predicted_labels, average='weighted')\n",
        "f1_RF = f1_score(y, cv_predicted_labels, average='weighted')\n",
        "accuracy_RF = accuracy_score(y, cv_predicted_labels)\n",
        "# Display the evaluation metrics\n",
        "print(\"\\nModel Evaluation (Cross-Validation):\")\n",
        "print(f\"Precision: {precision_RF:.3f}\")\n",
        "print(f\"Recall: {recall_RF:.3f}\")\n",
        "print(f\"F1 Score: {f1_RF:.3f}\")\n",
        "print(f\"Accuracy: {accuracy_RF:.3f}\")"
      ],
      "metadata": {
        "colab": {
          "base_uri": "https://localhost:8080/"
        },
        "id": "PDjwzRbiPz5i",
        "outputId": "f8e92190-e1f4-4f05-e75b-850d302e13c6"
      },
      "execution_count": null,
      "outputs": [
        {
          "output_type": "stream",
          "name": "stdout",
          "text": [
            "\n",
            "Model Evaluation (Cross-Validation):\n",
            "Precision: 0.930\n",
            "Recall: 0.928\n",
            "F1 Score: 0.928\n",
            "Accuracy: 0.928\n"
          ]
        }
      ]
    },
    {
      "cell_type": "markdown",
      "source": [
        "## **AdaBoost**"
      ],
      "metadata": {
        "id": "yyRrZJBF86aB"
      }
    },
    {
      "cell_type": "code",
      "source": [
        "from sklearn.ensemble import AdaBoostClassifier\n",
        "model = make_pipeline(CountVectorizer(analyzer=lambda x: x), AdaBoostClassifier(random_state=42))\n",
        "\n",
        "# Define a custom scorer for cross_val_score\n",
        "custom_scorer = make_scorer(accuracy_score)\n",
        "\n",
        "# Perform 5-fold cross-validation and get cross-validated predictions\n",
        "cv_predicted_labels = cross_val_predict(model, X, y, cv=StratifiedKFold(n_splits=5, shuffle=True, random_state=42))\n",
        "\n",
        "# Evaluate the model\n",
        "precision_AB = precision_score(y, cv_predicted_labels, average='weighted')\n",
        "recall_AB = recall_score(y, cv_predicted_labels, average='weighted')\n",
        "f1_AB = f1_score(y, cv_predicted_labels, average='weighted')\n",
        "accuracy_AB = accuracy_score(y, cv_predicted_labels)\n",
        "# Display the evaluation metrics\n",
        "print(\"\\nModel Evaluation (Cross-Validation):\")\n",
        "print(f\"Precision: {precision_AB:.3f}\")\n",
        "print(f\"Recall: {recall_AB:.3f}\")\n",
        "print(f\"F1 Score: {f1_AB:.3f}\")\n",
        "print(f\"Accuracy: {accuracy_AB:.3f}\")"
      ],
      "metadata": {
        "colab": {
          "base_uri": "https://localhost:8080/"
        },
        "id": "nILaZXCR9Aa-",
        "outputId": "946ed22e-0a33-4856-beec-62fe22946270"
      },
      "execution_count": null,
      "outputs": [
        {
          "output_type": "stream",
          "name": "stdout",
          "text": [
            "\n",
            "Model Evaluation (Cross-Validation):\n",
            "Precision: 0.880\n",
            "Recall: 0.856\n",
            "F1 Score: 0.860\n",
            "Accuracy: 0.856\n"
          ]
        }
      ]
    },
    {
      "cell_type": "markdown",
      "source": [
        "## **XGBoost**"
      ],
      "metadata": {
        "id": "uELOJYi89uLZ"
      }
    },
    {
      "cell_type": "markdown",
      "source": [
        "Preprocessing needs to be done in XGBoost Model"
      ],
      "metadata": {
        "id": "ITfht0tJ-VCd"
      }
    },
    {
      "cell_type": "code",
      "source": [
        "from xgboost import XGBClassifier\n",
        "\n",
        "# XGBoost model\n",
        "model = make_pipeline(\n",
        "    CountVectorizer(),\n",
        "    XGBClassifier(n_estimators=100, learning_rate=0.1)\n",
        ")\n",
        "\n",
        "#because xgboost require numeric so we change the data a little bit\n",
        "X_xg = df['data'].apply(lambda x: \" \".join(x)).tolist()\n",
        "label_map = {\"anger\": 0, \"fear\": 1, \"joy\": 2, \"sadness\": 3}\n",
        "y_xg = y.map(label_map)\n",
        "\n",
        "# Cross validation\n",
        "cv_predicted = cross_val_predict(model, X_xg, y_xg, cv=5)\n",
        "\n",
        "# Evaluate the model\n",
        "precision_XG = precision_score(y_xg, cv_predicted, average='weighted')\n",
        "recall_XG = recall_score(y_xg, cv_predicted, average='weighted')\n",
        "f1_XG = f1_score(y_xg, cv_predicted, average='weighted')\n",
        "accuracy_XG = accuracy_score(y_xg ,cv_predicted)\n",
        "# Display the evaluation metrics\n",
        "print(\"\\nModel Evaluation (Cross-Validation):\")\n",
        "print(f\"Precision: {precision_XG:.3f}\")\n",
        "print(f\"Recall: {recall_XG:.3f}\")\n",
        "print(f\"F1 Score: {f1_XG:.3f}\")\n",
        "print(f\"Accuracy: {accuracy_XG:.3f}\")"
      ],
      "metadata": {
        "colab": {
          "base_uri": "https://localhost:8080/"
        },
        "id": "6P8QywRq9xDX",
        "outputId": "e83f2c78-3357-4750-a05f-adb0b5957fc0"
      },
      "execution_count": null,
      "outputs": [
        {
          "output_type": "stream",
          "name": "stdout",
          "text": [
            "\n",
            "Model Evaluation (Cross-Validation):\n",
            "Precision: 0.918\n",
            "Recall: 0.908\n",
            "F1 Score: 0.910\n",
            "Accuracy: 0.908\n"
          ]
        }
      ]
    },
    {
      "cell_type": "markdown",
      "source": [
        "# Evaluation"
      ],
      "metadata": {
        "id": "gXZXyWkvSfVp"
      }
    },
    {
      "cell_type": "code",
      "source": [
        "models = ['Random Forest', 'AdaBoost','XGBoost']\n",
        "scores = [accuracy_RF,accuracy_AB,accuracy_XG]\n",
        "colors = ['blue', 'green', 'orange']\n",
        "\n",
        "fig, ax = plt.subplots()\n",
        "ax.bar(models,scores,color=colors)\n",
        "ax.set_title(\"Accuracy Comparison\")\n",
        "ax.set_ylabel(\"Accuracy\")\n",
        "for i, v in enumerate(scores):\n",
        "    ax.text(i, v+0.01, str(round(v, 4)), ha='center')\n",
        "plt.show()"
      ],
      "metadata": {
        "colab": {
          "base_uri": "https://localhost:8080/",
          "height": 452
        },
        "id": "8opUzZChSgPb",
        "outputId": "8225e20c-4c25-4ec4-b846-da0d4d2ea827"
      },
      "execution_count": null,
      "outputs": [
        {
          "output_type": "display_data",
          "data": {
            "text/plain": [
              "<Figure size 640x480 with 1 Axes>"
            ],
            "image/png": "[encoded data removed]"
          },
          "metadata": {}
        }
      ]
    },
    {
      "cell_type": "markdown",
      "source": [
        "\n",
        "1. Random Forest\n",
        "- Accuracy: 0.928\n",
        "- Precision: 0.930\n",
        "- Recall: 0.928\n",
        "- F1-Score: 0.928\n",
        "Overall the Random Forest model demonstrated the **best performance** compared to the other models, with 92.80% accuracy on cross-validation. The precision, recall, and F1-score values were also highest and most stable among the three models.\n",
        "\n",
        "2. AdaBoost\n",
        "- Accuracy: 0.856\n",
        "- Precision: 0.880\n",
        "- Recall: 0.856\n",
        "- F1-Score: 0.860\n",
        "\n",
        "The performance of AdaBoost was slightly lower than Random Forest, with 85.60% accuracy. The evaluation metrics were also more varied across emotion classes.\n",
        "\n",
        "3. XGBoost\n",
        "- Accuracy: 0.908\n",
        "- Precision: 0.918\n",
        "- Recall: 0.908\n",
        "- F1-Score: 0.910\n",
        "\n",
        "XGBoost demonstrated performance in between Random Forest and AdaBoost. Its accuracy was quite high at 90.80%, but other metrics were slightly more varied across emotion classes.\n",
        "\n",
        "Overall, Random Forest showed the best and most stable results on this Sundanese tweet dataset. But XGBoost was also competitive with only around 2% difference in accuracy from Random Forest."
      ],
      "metadata": {
        "id": "l5yblsDnZa8w"
      }
    },
    {
      "cell_type": "code",
      "source": [],
      "metadata": {
        "id": "9llysflTUqpB"
      },
      "execution_count": null,
      "outputs": []
    }
  ]
}